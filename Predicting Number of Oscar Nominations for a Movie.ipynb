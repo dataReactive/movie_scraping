{
 "cells": [
  {
   "cell_type": "markdown",
   "metadata": {},
   "source": [
    "# Predicting Number of Oscar Nominations for a Movie\n",
    "\n",
    "Topic | Date | Name\n",
    "-----|------|-----\n",
    "Explore boxofficemojo data |04/14/2016 |Max Melnick"
   ]
  },
  {
   "cell_type": "markdown",
   "metadata": {},
   "source": [
    "**Data to collect**\n",
    "- number of days released befor oscar nominations are announced\n",
    "- imdb critic rating\n",
    "- imdb user rating\n",
    "- number of nominations\n",
    "- number of wins\n",
    "- actors (not sure how to structure this. maybe # top actors/actresses?)\n",
    "- collective previous oscar nominations/wins for cast??\n",
    "- total gross\n",
    "\n",
    "\n",
    "**Completed**\n",
    "- production budget\n",
    "- genre\n",
    "- international gross\n",
    "- opening weekend gross\n",
    "- studio\n",
    "- \\# theaters\n",
    "\n",
    "Other ideas:\n",
    "- optimal years/days to wait to release a sequel\n",
    "- optimal # weeks to wait to see a popular movie\n",
    "\n",
    "---"
   ]
  },
  {
   "cell_type": "code",
   "execution_count": 5,
   "metadata": {
    "collapsed": false
   },
   "outputs": [],
   "source": [
    "import requests\n",
    "from bs4 import BeautifulSoup\n",
    "import re\n",
    "from pprint import pprint\n",
    "import pandas as pd\n",
    "from pandas import DataFrame\n",
    "import numpy as np\n",
    "import datetime\n",
    "from time import strftime\n",
    "from math import ceil\n",
    "from scipy import stats\n",
    "\n",
    "import matplotlib.pyplot as plt\n",
    "import matplotlib.dates as mdates\n",
    "import seaborn as sns\n",
    "sns.set_style('whitegrid')\n",
    "\n",
    "from matplotlib.ticker import FuncFormatter\n",
    "\n",
    "%matplotlib inline\n",
    "\n",
    "import gevent.monkey\n",
    "gevent.monkey.patch_socket()\n",
    "from gevent.pool import Pool\n",
    "\n",
    "import dateutil.parser"
   ]
  },
  {
   "cell_type": "code",
   "execution_count": 6,
   "metadata": {
    "collapsed": true
   },
   "outputs": [],
   "source": [
    "base_url = 'http://boxofficemojo.com'"
   ]
  },
  {
   "cell_type": "code",
   "execution_count": 28,
   "metadata": {
    "collapsed": true
   },
   "outputs": [],
   "source": [
    "import time\n",
    "\n",
    "def timefunc(f):\n",
    "    def f_timer(*args, **kwargs):\n",
    "        start = time.time()\n",
    "        result = f(*args, **kwargs)\n",
    "        end = time.time()\n",
    "        print f.__name__, 'took', end - start, 'time'\n",
    "        return result\n",
    "    return f_timer"
   ]
  },
  {
   "cell_type": "code",
   "execution_count": 95,
   "metadata": {
    "collapsed": false
   },
   "outputs": [],
   "source": [
    "def millions(x, pos):\n",
    "    'The two args are the value and tick position'\n",
    "    return '$%1.0fM' % (x*1e-6)\n",
    "\n",
    "formatter = FuncFormatter(millions)\n",
    "\n",
    "def urlToSoup(url):\n",
    "    response = requests.get(url)\n",
    "    return BeautifulSoup(response.text, 'lxml')\n",
    "\n",
    "def to_date(datestring):\n",
    "    date = dateutil.parser.parse(datestring)\n",
    "    return date\n",
    "\n",
    "def money_to_int(moneystring):\n",
    "    try:\n",
    "        moneystring = moneystring.replace(' (Estimate)', '')\n",
    "        moneystring = moneystring.replace('$', '').replace(',', '')\n",
    "        return int(moneystring)\n",
    "    except:\n",
    "        return None\n",
    "\n",
    "def runtime_to_minutes(runtimestring):\n",
    "    runtime = runtimestring.split()\n",
    "    try:\n",
    "        minutes = int(runtime[0])*60 + int(runtime[2])\n",
    "        return minutes\n",
    "    except:\n",
    "        return None\n",
    "\n",
    "def budgetToInt(budget_string):\n",
    "    budget_list = budget_string.replace('$','').split(' ')\n",
    "    # when the movie budget is a string in form $XX million\n",
    "    if len(budget_list) > 1:\n",
    "        budget = int(float(budget_list[0])*1000000)\n",
    "        return budget\n",
    "    # when budget is a string like $100,000\n",
    "    elif budget_list[0].lower() != 'n/a':\n",
    "        budget = budget_list[0].replace(',','')\n",
    "        return money_to_int(budget)\n",
    "    # when budget is a string == 'N/A' or not listed\n",
    "    else:\n",
    "        return None\n",
    "\n",
    "def getNumTheaters(raw_theater_string):\n",
    "    theater_string = str(raw_theater_string)\n",
    "    theater_string = re.search('(\\d+,?\\d+)+ theaters', theater_string)\n",
    "    if theater_string:\n",
    "        theater_string = theater_string.group(0).replace(',','').split(' ')\n",
    "        return int(theater_string[0])\n",
    "    else:\n",
    "        return None\n",
    "        \n",
    "\n",
    "def get_movie_value(soup, field_name):\n",
    "    '''Grab a value from boxofficemojo HTML\n",
    "    \n",
    "    Takes a string attribute of a movie on the page and\n",
    "    returns the string in the next sibling object\n",
    "    (the value for that attribute)\n",
    "    or None if nothing is found.\n",
    "    '''\n",
    "    obj = soup.find(text=re.compile(field_name))\n",
    "    if not obj: \n",
    "        return None\n",
    "    in_box_content = obj.find_parents(class_='mp_box_content')\n",
    "    if in_box_content:\n",
    "        return getBoxContent(obj)\n",
    "    else:\n",
    "        return getHeadTableContent(obj)\n",
    "    \n",
    "\n",
    "def getHeadTableContent(obj):\n",
    "    next_sibling = obj.findNextSibling()\n",
    "    parent_sibling = obj.find_parent().findNextSibling()\n",
    "    if next_sibling:\n",
    "        return next_sibling.text \n",
    "    elif parent_sibling:\n",
    "        return parent_sibling.text\n",
    "    else:\n",
    "        return None\n",
    "    \n",
    "def getBoxContent(obj):\n",
    "    next_td = obj.find_parent('td').find_next_sibling('td')\n",
    "    if next_td:\n",
    "        return next_td.get_text(strip=True)\n",
    "    else:\n",
    "        return getNumTheaters(obj)\n",
    "\n",
    "def getSingleMovieData(soup):\n",
    "    #create a blank dictionary that will be used to track the movie data\n",
    "    movie_data = {}\n",
    "    \n",
    "    #get the movie director and add it to `movie_data` dictionary\n",
    "    movie_data['director'] = get_movie_value(soup, 'Director')\n",
    "    \n",
    "    #get the movie title\n",
    "    title_string = soup.find('title').text\n",
    "    title = title_string.split('(')[0].strip()\n",
    "    movie_data['title'] = title\n",
    "    \n",
    "    #get the release date\n",
    "    raw_release_date = get_movie_value(soup,'Release Date')\n",
    "    movie_data['release_date'] = to_date(raw_release_date)\n",
    "    \n",
    "    #get the domestic total gross\n",
    "    raw_domestic_total_gross = get_movie_value(soup,'Domestic Total')\n",
    "    movie_data['domestic_total_gross'] = money_to_int(raw_domestic_total_gross)\n",
    "    \n",
    "    # foreign gross\n",
    "    movie_data['foreign_total_gross'] = money_to_int(get_movie_value(soup, 'Foreign:'))\n",
    "    \n",
    "    #get the MPAA rating\n",
    "    movie_data['rating'] = get_movie_value(soup,'MPAA Rating')\n",
    "    \n",
    "    # get runtime and convert it to an int\n",
    "    raw_runtime = get_movie_value(soup,'Runtime')\n",
    "    movie_data['runtime'] = runtime_to_minutes(raw_runtime)\n",
    "    \n",
    "    # get genre\n",
    "    movie_data['genre'] = get_movie_value(soup,'Genre:')\n",
    "\n",
    "    # get production budget\n",
    "    raw_budget = get_movie_value(soup,'Production Budget')    \n",
    "    movie_data['budget'] = budgetToInt(raw_budget)\n",
    "    \n",
    "    # opening weekend\n",
    "    movie_data['opening_weekend_gross'] = money_to_int(get_movie_value(soup, 'Weekend:'))\n",
    "    \n",
    "    # studio\n",
    "    movie_data['studio'] = get_movie_value(soup, 'Distributor:')\n",
    "    \n",
    "    # num opening weekend theaters\n",
    "    movie_data['num_opening_theaters'] = get_movie_value(soup, 'theaters,')\n",
    "    \n",
    "    return movie_data\n",
    "\n",
    "def getMovieLinks(year_list):\n",
    "    #generate the urls that we'll scrape for each year on boxofficemojo.com\n",
    "    year_urls = []\n",
    "    for year in years:\n",
    "        year_urls.append('http://www.boxofficemojo.com/yearly/chart/?yr='+year+'&p=.htm')\n",
    "        \n",
    "    links_to_movies = []\n",
    "    for url in year_urls:\n",
    "        links_to_movies += urlToSoup(url).find(id='body').find_all('a', href=re.compile('^/movies/\\?id'))\n",
    "    \n",
    "    links = []\n",
    "    for link in links_to_movies:\n",
    "        links.append(base_url+link.get('href'))\n",
    "    \n",
    "    return links"
   ]
  },
  {
   "cell_type": "code",
   "execution_count": 96,
   "metadata": {
    "collapsed": false
   },
   "outputs": [],
   "source": [
    "@timefunc\n",
    "def getAllMovieData(year_list):\n",
    "    links_to_movies = getMovieLinks(year_list)\n",
    "\n",
    "    data = []\n",
    "    for url in links_to_movies:\n",
    "        soup = urlToSoup(url)\n",
    "        movie_data = getSingleMovieData(soup)\n",
    "        data.append(movie_data)\n",
    "    return data\n",
    "\n",
    "def getMovieSoups(urls):\n",
    "    pool = Pool(50)\n",
    "    soups = []\n",
    "    for url in urls:\n",
    "        soups.append(pool.spawn(urlToSoup, url))\n",
    "    pool.join()\n",
    "    return soups\n",
    "\n",
    "@timefunc\n",
    "def getAllMovieData2(year_list):\n",
    "    links_to_movies = getMovieLinks(year_list)\n",
    "    \n",
    "    movie_soups = getMovieSoups(links_to_movies)\n",
    "    \n",
    "    data = []\n",
    "    for movie_soup in movie_soups:\n",
    "        movie_data = getSingleMovieData(movie_soup.value)\n",
    "        data.append(movie_data)\n",
    "    return data"
   ]
  },
  {
   "cell_type": "code",
   "execution_count": 102,
   "metadata": {
    "collapsed": false
   },
   "outputs": [
    {
     "name": "stdout",
     "output_type": "stream",
     "text": [
      "getAllMovieData2 took 13.4695701599 time\n"
     ]
    }
   ],
   "source": [
    "#list the years that we want to get data for the top 100 movies of each year\n",
    "#years = ['2012', '2013','2014','2015']\n",
    "years = ['2015']\n",
    "\n",
    "#movie_data2 = getAllMovieData(years)\n",
    "\n",
    "movie_data1 = getAllMovieData2(years)\n",
    "\n",
    "df = DataFrame(movie_data1)"
   ]
  },
  {
   "cell_type": "code",
   "execution_count": 101,
   "metadata": {
    "collapsed": false
   },
   "outputs": [
    {
     "data": {
      "text/plain": [
       "array([ 4134.,  4274.,  4276.,  3946.,  4004.,  4301.,  4175.,  3831.,\n",
       "        3845.,  3929.,  3956.,  3473.,    nan,  3856.,  3708.,  3754.,\n",
       "        3646.,  3641.,  2757.,  3777.,  3702.,  3271.,  3875.,  3897.,\n",
       "        3204.,  3749.,  3711.,  3158.,  3404.,  3972.,  3175.,  3758.,\n",
       "        3594.,  2962.,  3653.,  3791.,  3442.,  3501.,  3723.,  3303.,\n",
       "        3305.,  2811.,  3633.,    nan,  1135.,  3355.,  3069.,  3003.,\n",
       "        3188.,  3411.,  2221.,  2896.,  3995.,   100.,  3323.,  2772.,\n",
       "        3002.,  3240.,  3181.,    nan,  3638.,    nan,  2755.,  2503.,\n",
       "         545.,  2960.,  2902.,  2855.,  2991.,    nan,  3366.,  2602.,\n",
       "        3515.,  3003.,  2841.,  2575.,   258.,  1573.,  2739.,  3108.,\n",
       "        3031.,  3201.,  2984.,  1960.,  2910.,  2766.,  3082.,  3355.,\n",
       "        1603.,  2602.,  3171.,  2603.,  2666.,    nan,  3103.,  2720.,\n",
       "        3261.,  2893.,  1823.,  2815.])"
      ]
     },
     "execution_count": 101,
     "metadata": {},
     "output_type": "execute_result"
    }
   ],
   "source": [
    "df.num_opening_theaters.values"
   ]
  },
  {
   "cell_type": "code",
   "execution_count": 114,
   "metadata": {
    "collapsed": false
   },
   "outputs": [
    {
     "name": "stdout",
     "output_type": "stream",
     "text": [
      "39\n",
      "[{'noms': u'10', 'wins': u'6', 'title': u'Mad Max: Fury Road'}, {'noms': u'12', 'wins': u'3', 'title': u'The Revenant'}, {'noms': u'6', 'wins': u'2', 'title': u'Spotlight'}, {'noms': u'6', 'wins': u'1', 'title': u'Bridge of Spies'}, {'noms': u'5', 'wins': u'1', 'title': u'The Big Short'}, {'noms': u'4', 'wins': u'1', 'title': u'Room'}, {'noms': u'4', 'wins': u'1', 'title': u'The Danish Girl'}, {'noms': u'3', 'wins': u'1', 'title': u'The Hateful Eight'}, {'noms': u'2', 'wins': u'1', 'title': u'Ex Machina'}, {'noms': u'2', 'wins': u'1', 'title': u'Inside Out'}, {'noms': u'1', 'wins': u'1', 'title': u'Son of Saul'}, {'noms': u'1', 'wins': u'1', 'title': u'Amy'}, {'noms': u'1', 'wins': u'1', 'title': u'Spectre'}, {'noms': u'7', 'wins': u'0', 'title': u'The Martian'}, {'noms': u'6', 'wins': u'0', 'title': u'Carol'}, {'noms': u'5', 'wins': u'0', 'title': u'Star Wars: The Force Awakens'}, {'noms': u'3', 'wins': u'0', 'title': u'Brooklyn'}, {'noms': u'3', 'wins': u'0', 'title': u'Sicario'}, {'noms': u'2', 'wins': u'0', 'title': u'Steve Jobs'}, {'noms': u'1', 'wins': u'0', 'title': u'Mustang'}, {'noms': u'1', 'wins': u'0', 'title': u'Anomalisa'}, {'noms': u'1', 'wins': u'0', 'title': u'The 100-Year Old Man Who Climbed Out the Window and Disappeared'}, {'noms': u'1', 'wins': u'0', 'title': u'The Look of Silence'}, {'noms': u'1', 'wins': u'0', 'title': u'Joy'}, {'noms': u'1', 'wins': u'0', 'title': u'Boy and the World'}, {'noms': u'1', 'wins': u'0', 'title': u'Fifty Shades of Grey'}, {'noms': u'1', 'wins': u'0', 'title': u'Straight Outta Compton'}, {'noms': u'1', 'wins': u'0', 'title': u'Theeb'}, {'noms': u'1', 'wins': u'0', 'title': u'45 Years'}, {'noms': u'1', 'wins': u'0', 'title': u'Shaun the Sheep Movie'}, {'noms': u'1', 'wins': u'0', 'title': u'Trumbo (2015)'}, {'noms': u'1', 'wins': u'0', 'title': u'Youth'}, {'noms': u'1', 'wins': u'0', 'title': u'A War'}, {'noms': u'1', 'wins': u'0', 'title': u'Creed'}, {'noms': u'1', 'wins': u'0', 'title': u'When Marnie Was There'}, {'noms': u'1', 'wins': u'0', 'title': u'The Hunting Ground'}, {'noms': u'1', 'wins': u'0', 'title': u'Embrace of the Serpent'}, {'noms': u'1', 'wins': u'0', 'title': u'Cinderella (2015)'}, {'noms': u'1', 'wins': u'0', 'title': u'Cartel Land'}]\n"
     ]
    }
   ],
   "source": [
    "# return a DataFrame with Oscar nominations and wins by movie\n",
    "def getOscarData():\n",
    "    soup = urlToSoup('http://www.boxofficemojo.com/oscar/chart/?view=allmovies&yr=2015&p=.htm')\n",
    "    table = soup.find('table', bgcolor='#e6ado2')\n",
    "    table_rows = table.find_all('tr')\n",
    "    #get rid of the header row\n",
    "    table_rows.pop(0)\n",
    "    data = []\n",
    "    for row in table_rows:\n",
    "        oscar_data = {}\n",
    "        columns = row.find_all('td')\n",
    "        oscar_data['title'] = columns[2].get_text(strip=True)\n",
    "        oscar_data['noms'] = columns[5].get_text(strip=True)\n",
    "        oscar_data['wins'] = columns[6].get_text(strip=True)\n",
    "        data.append(oscar_data)\n",
    "    return data\n",
    "    \n",
    "print getOscarData()"
   ]
  },
  {
   "cell_type": "code",
   "execution_count": null,
   "metadata": {
    "collapsed": true
   },
   "outputs": [],
   "source": []
  }
 ],
 "metadata": {
  "kernelspec": {
   "display_name": "Python 2",
   "language": "python",
   "name": "python2"
  },
  "language_info": {
   "codemirror_mode": {
    "name": "ipython",
    "version": 2
   },
   "file_extension": ".py",
   "mimetype": "text/x-python",
   "name": "python",
   "nbconvert_exporter": "python",
   "pygments_lexer": "ipython2",
   "version": "2.7.11"
  }
 },
 "nbformat": 4,
 "nbformat_minor": 0
}
